{
  "nbformat": 4,
  "nbformat_minor": 0,
  "metadata": {
    "colab": {
      "provenance": []
    },
    "kernelspec": {
      "name": "python3",
      "display_name": "Python 3"
    },
    "language_info": {
      "name": "python"
    }
  },
  "cells": [
    {
      "cell_type": "markdown",
      "source": [
        "# Importing packages and data"
      ],
      "metadata": {
        "id": "3-gVSwRtLwjP"
      }
    },
    {
      "cell_type": "code",
      "source": [
        "import pandas as pd\n",
        "import numpy as np\n",
        "import matplotlib.pyplot as plt\n",
        "import nltk\n",
        "import string\n",
        "import seaborn as sns\n",
        "import re\n",
        "\n",
        "from wordcloud import WordCloud\n",
        "from nltk import sent_tokenize, word_tokenize\n",
        "from nltk.corpus import stopwords\n",
        "from collections import Counter\n",
        "from nltk.tokenize import RegexpTokenizer\n",
        "from nltk.stem.wordnet import WordNetLemmatizer\n",
        "\n",
        "nltk.download(\"all\")"
      ],
      "metadata": {
        "id": "Vv-dTzm9Dx54"
      },
      "execution_count": null,
      "outputs": []
    },
    {
      "cell_type": "code",
      "source": [
        "# Get the review data\n",
        "healthygym_trustpilot_df = pd.read_excel('/content/sample_data/Trustpilot_12_months.xlsx')\n",
        "healthygym_google_df = pd.read_excel('/content/sample_data/Google_12_months.xlsx')"
      ],
      "metadata": {
        "id": "OW-0FMMsMze9"
      },
      "execution_count": null,
      "outputs": []
    },
    {
      "cell_type": "code",
      "source": [
        "# Trustpilot dataset info\n",
        "healthygym_trustpilot_df.info()"
      ],
      "metadata": {
        "id": "pBgiHvubD_4h"
      },
      "execution_count": null,
      "outputs": []
    },
    {
      "cell_type": "markdown",
      "source": [
        "No null value found on 'Review Content' column"
      ],
      "metadata": {
        "id": "2k4sojxdFfT8"
      }
    },
    {
      "cell_type": "code",
      "source": [
        "# Trustpilot dataset sample\n",
        "healthygym_trustpilot_df[[\"Location Name\", \"Review Created (UTC)\", \"Review Content\", \"Review Stars\"]].head()"
      ],
      "metadata": {
        "id": "9BBVQXugK9TZ"
      },
      "execution_count": null,
      "outputs": []
    },
    {
      "cell_type": "code",
      "source": [
        "# Google dataset info\n",
        "healthygym_google_df.info()"
      ],
      "metadata": {
        "id": "AkZrpJjkFU98"
      },
      "execution_count": null,
      "outputs": []
    },
    {
      "cell_type": "code",
      "source": [
        "# Only Comment column has some nulls. Can safely run dropna on the dataframe to drop rows with no comments\n",
        "healthygym_google_df.dropna(inplace=True)\n",
        "\n",
        "healthygym_google_df.info()"
      ],
      "metadata": {
        "id": "Yjkl0PMBGMg8"
      },
      "execution_count": null,
      "outputs": []
    },
    {
      "cell_type": "code",
      "source": [
        "# Google dataset sample data\n",
        "healthygym_google_df[[\"Club's Name\", \"Creation Date\", \"Comment\", \"Overall Score\"]].head()"
      ],
      "metadata": {
        "id": "L2NOz9pNLEaW"
      },
      "execution_count": null,
      "outputs": []
    },
    {
      "cell_type": "markdown",
      "source": [
        "# Conducting initial data investigation"
      ],
      "metadata": {
        "id": "l55H7XB4L_Z5"
      }
    },
    {
      "cell_type": "code",
      "source": [
        "#get unique locations from Trustpilot reviews\n",
        "trustpilot_locations = healthygym_trustpilot_df['Location Name'].unique()\n",
        "trustpilot_locations = trustpilot_locations.astype(str)\n",
        "len(trustpilot_locations)"
      ],
      "metadata": {
        "id": "0Lz2gDD_MjyI"
      },
      "execution_count": null,
      "outputs": []
    },
    {
      "cell_type": "code",
      "source": [
        "#get unique locations from Google reviews\n",
        "google_locations = healthygym_google_df[\"Club's Name\"].unique()\n",
        "google_locations = google_locations.astype(str)\n",
        "len(google_locations)"
      ],
      "metadata": {
        "id": "Z_318Cv7M9AG"
      },
      "execution_count": null,
      "outputs": []
    },
    {
      "cell_type": "code",
      "source": [
        "#Get locations common in both datasets\n",
        "intersection_of_locations = [ tp_location for tp_location in trustpilot_locations if tp_location in google_locations ]\n",
        "len(intersection_of_locations)"
      ],
      "metadata": {
        "id": "TeEq0tBMNMXt"
      },
      "execution_count": null,
      "outputs": []
    },
    {
      "cell_type": "markdown",
      "source": [
        "310 locations overlap between google and trust pilot"
      ],
      "metadata": {
        "id": "eaJBakOHNUyx"
      }
    },
    {
      "cell_type": "code",
      "source": [
        "# Define stop words and punctuation.\n",
        "stop_words = set(stopwords.words('english'))\n",
        "\n",
        "excludes = [\"healthygym\", \"pure\", \"gym\", \"one\"]\n",
        "\n",
        "lemma = WordNetLemmatizer()\n",
        "\n",
        "# Function to clean the document.\n",
        "def word_cloud_display(df, key):\n",
        "  top_number_of_results = 100\n",
        "  all_reviews = df[key].str.lower().str.cat(sep=' ')\n",
        "  all_text = re.sub('[^A-Za-z]+', ' ', all_reviews)\n",
        "\n",
        "  word_tokens = word_tokenize(all_text)\n",
        "\n",
        "  filtered_all_reviews = [lemma.lemmatize(word) for word in word_tokens if (word not in stop_words) and not(word.isnumeric()) and (word not in excludes)]\n",
        "\n",
        "  word_distribution = nltk.FreqDist(filtered_all_reviews)\n",
        "  reviews_word_frequency_distribution_df = pd.DataFrame(word_distribution.most_common(top_number_of_results), columns=['Word', 'Frequency'])\n",
        "\n",
        "  plt.figure(figsize=(8,8))\n",
        "  sns.set_style(\"whitegrid\")\n",
        "  ax = sns.barplot(x=\"Word\",y=\"Frequency\", data=reviews_word_frequency_distribution_df.head(10))\n",
        "\n",
        "  plt.figure(figsize = (60,60))\n",
        "  wc = WordCloud(background_color = 'black', max_words = 1000,  max_font_size = 50)\n",
        "  wc.generate(' '.join(filtered_all_reviews))\n",
        "  plt.imshow(wc)\n",
        "  plt.axis('off')"
      ],
      "metadata": {
        "id": "wRaVYW_NWDfY"
      },
      "execution_count": null,
      "outputs": []
    },
    {
      "cell_type": "code",
      "source": [
        "# Clean and display histogram and word cloud - Trustpilot reviews\n",
        "word_cloud_display(healthygym_trustpilot_df, \"Review Content\")"
      ],
      "metadata": {
        "id": "aPKdONw8dZ7x"
      },
      "execution_count": null,
      "outputs": []
    },
    {
      "cell_type": "code",
      "source": [
        "# Clean and display histogram and word cloud - Google reviews\n",
        "word_cloud_display(healthygym_google_df, \"Comment\")"
      ],
      "metadata": {
        "id": "J3Eq3q-g-U39"
      },
      "execution_count": null,
      "outputs": []
    },
    {
      "cell_type": "markdown",
      "source": [
        "The top 10 most frequently used words seem to be very similar from both Google review and Trustpilot."
      ],
      "metadata": {
        "id": "4nR7yHAi_WyH"
      }
    },
    {
      "cell_type": "code",
      "source": [
        "# Clean and display histogram and word cloud - Trustpilot negative reviews\n",
        "bad_healthygym_trustpilot_df = healthygym_trustpilot_df[healthygym_trustpilot_df[\"Review Stars\"] < 3]\n",
        "word_cloud_display(bad_healthygym_trustpilot_df, \"Review Content\")"
      ],
      "metadata": {
        "id": "na3RoiDw_7BO"
      },
      "execution_count": null,
      "outputs": []
    },
    {
      "cell_type": "code",
      "source": [
        "# Clean and display histogram and word cloud - Google negative reviews\n",
        "\n",
        "bad_healthygym_google_df = healthygym_google_df[healthygym_google_df[\"Overall Score\"] < 3]\n",
        "word_cloud_display(bad_healthygym_google_df, \"Comment\")"
      ],
      "metadata": {
        "id": "1NF7l6wN_9Dn"
      },
      "execution_count": null,
      "outputs": []
    },
    {
      "cell_type": "markdown",
      "source": [
        "The top 10 most frequently used words from negative reviews also seem to be very similar from both Google review and Trustpilot."
      ],
      "metadata": {
        "id": "Cv5Gg5qaHNr9"
      }
    },
    {
      "cell_type": "markdown",
      "source": [
        "# Conducting initial topic modelling"
      ],
      "metadata": {
        "id": "yZ5q6DQiHLuF"
      }
    },
    {
      "cell_type": "code",
      "source": [
        "# Filter out the reviews that are from the locations common to both data sets.\n",
        "both_loc_healthygym_trustpilot_df = bad_healthygym_trustpilot_df[bad_healthygym_trustpilot_df['Location Name'].isin(intersection_of_locations)]\n",
        "both_loc_healthygym_google_df = bad_healthygym_google_df[bad_healthygym_google_df[\"Club's Name\"].isin(intersection_of_locations)]\n",
        "\n",
        "bad_healthygym_trustpilot_list = both_loc_healthygym_trustpilot_df[\"Review Content\"].to_list()\n",
        "bad_healthygym_google_list = both_loc_healthygym_google_df[\"Comment\"].to_list()\n",
        "\n",
        "#Merge the reviews to form a new list.\n",
        "all_bad_reviews_list = bad_healthygym_trustpilot_list + bad_healthygym_google_list\n",
        "\n",
        "len(all_bad_reviews_list)"
      ],
      "metadata": {
        "id": "kW9gsn2-Ul0K"
      },
      "execution_count": null,
      "outputs": []
    },
    {
      "cell_type": "code",
      "source": [
        "all_bad_reviews_list[0]"
      ],
      "metadata": {
        "id": "pTW8JtOmh7ZF"
      },
      "execution_count": null,
      "outputs": []
    },
    {
      "cell_type": "code",
      "source": [
        "# install BERTopic\n",
        "!pip install bertopic"
      ],
      "metadata": {
        "id": "3nvybDbUE1oo"
      },
      "execution_count": null,
      "outputs": []
    },
    {
      "cell_type": "code",
      "source": [
        "# import pipeline and BERTopic\n",
        "from transformers import pipeline\n",
        "from bertopic import BERTopic"
      ],
      "metadata": {
        "id": "zn4jKD5BC08S"
      },
      "execution_count": null,
      "outputs": []
    },
    {
      "cell_type": "code",
      "source": [
        "#define function to clean review text\n",
        "def clean_review_text(text):\n",
        "    text = text.lower()\n",
        "    text = re.sub('[^A-Za-z]+', ' ', text)\n",
        "\n",
        "    word_tokens = word_tokenize(text)\n",
        "\n",
        "    for word in word_tokens:\n",
        "      if ((word in stop_words) or word.isnumeric() or (word in excludes)):\n",
        "        text = text.replace(\" \" + word + \" \", \" \")\n",
        "      else:\n",
        "        word_lemma = lemma.lemmatize(word)\n",
        "        text = text.replace(word, word_lemma)\n",
        "    return text\n",
        "\n",
        "#define function to clean review text\n",
        "def clean_reviews(reviews_list):\n",
        "  reviews_list_clean = []\n",
        "  for review in reviews_list:\n",
        "    #print(review)\n",
        "    if review is not None and review != \"nan\":\n",
        "      review =  clean_review_text(review)\n",
        "      reviews_list_clean.append(review)\n",
        "\n",
        "  return reviews_list_clean\n",
        "\n",
        "all_bad_reviews_list_clean = clean_reviews(all_bad_reviews_list)"
      ],
      "metadata": {
        "id": "qSAQpXXRiNYu"
      },
      "execution_count": null,
      "outputs": []
    },
    {
      "cell_type": "code",
      "source": [
        "all_bad_reviews_list_clean[0]"
      ],
      "metadata": {
        "id": "dkFaBrQvifZA"
      },
      "execution_count": null,
      "outputs": []
    },
    {
      "cell_type": "code",
      "source": [
        "# Analyse negative reviews with BERTopic\n",
        "model = BERTopic(verbose=True)\n",
        "model.fit(all_bad_reviews_list_clean)\n",
        "topic, probabilities = model.transform(all_bad_reviews_list_clean)"
      ],
      "metadata": {
        "id": "O5JULbobirgQ"
      },
      "execution_count": null,
      "outputs": []
    },
    {
      "cell_type": "code",
      "source": [
        "# Diplay top frequency topics\n",
        "model.get_topic_freq().head(10)"
      ],
      "metadata": {
        "id": "YrX3QU-ukHSq"
      },
      "execution_count": null,
      "outputs": []
    },
    {
      "cell_type": "code",
      "source": [
        "model.get_topic(0)"
      ],
      "metadata": {
        "id": "pGsiH96wqeSH"
      },
      "execution_count": null,
      "outputs": []
    },
    {
      "cell_type": "code",
      "source": [
        "model.get_topic(1)"
      ],
      "metadata": {
        "id": "yt1QGoImrNxU"
      },
      "execution_count": null,
      "outputs": []
    },
    {
      "cell_type": "code",
      "source": [
        "model.visualize_topics()"
      ],
      "metadata": {
        "id": "VFNXHG7prTLQ"
      },
      "execution_count": null,
      "outputs": []
    },
    {
      "cell_type": "code",
      "source": [
        "model.visualize_barchart(topics=[1,2,3,4,5,6,7,8,9,10])"
      ],
      "metadata": {
        "id": "SfQHbRJNrWQR"
      },
      "execution_count": null,
      "outputs": []
    },
    {
      "cell_type": "code",
      "source": [
        "model.visualize_heatmap()"
      ],
      "metadata": {
        "id": "Qry6rQ4sr-_9"
      },
      "execution_count": null,
      "outputs": []
    },
    {
      "cell_type": "markdown",
      "source": [
        "The top 10 clusters are as follows:\n",
        "\n",
        "1. Shower facility: Shower facility needs to be maintained. Words such as shower, cold, mould, dirty indicates they may need some maintenance.\n",
        "2. Air quality and freshness: Words such as aircon, air conditioning, hot indicates air quality in the gym needs to be looked at and ensure appropriate ventilation and air conditioners are in correct working order.\n",
        "3. Classes and Instructors: There seems to be low availability of classes and instructors. class, instructor, booked, cancelled, spin - indicates class cancellations.\n",
        "4. Access issue: Pass, pin, code, and access indicate there is issue with the access.\n",
        "5. Parking. There seems to be demand for free parking and instances of customers being fined for parking. Parking, car, park, fine, free are words indicating parking concerns.\n",
        "6. Equipment and weights: Weights, bench, dumbbells and plates indicates appropriate and sufficient equipment need to be provided.\n",
        "7. Toilets and changing rooms: toilets, dirty, changing, disgusting indicates toilets and changing room cleanliness is a big concern\n",
        "8. Music and ambience: There are reviews about loud music and other noise.\n",
        "9. Membership and cancellation: Membership, account, suspended, month etc indicates issue with user account maintenance.\n",
        "10. Locker room issue. There seems to be safety issues in the locker room. Words such as Locker, bag, stolen, recording etc indicates there may be some serious issues that need to be rectified with urgency.\n",
        "\n",
        "  "
      ],
      "metadata": {
        "id": "Gm46nZ4gcB6g"
      }
    },
    {
      "cell_type": "markdown",
      "source": [
        "# Performing further data investigation"
      ],
      "metadata": {
        "id": "Kfj5xO7ieA7c"
      }
    },
    {
      "cell_type": "code",
      "source": [
        "#List out the top 20 locations with the highest number of negative reviews - Trustpilot\n",
        "bad_healthygym_trustpilot_grouped_df = bad_healthygym_trustpilot_df.groupby('Location Name')['Review Content'].count() #\n",
        "bad_healthygym_trustpilot_grouped_df = bad_healthygym_trustpilot_grouped_df.sort_values(ascending=False)\n",
        "bad_healthygym_trustpilot_grouped_df = bad_healthygym_trustpilot_grouped_df.reset_index(name=\"total_count_tp\")\n",
        "\n",
        "#Get top 20 locations\n",
        "bad_healthygym_trustpilot_grouped_df.head(20)"
      ],
      "metadata": {
        "id": "q99m6CNLuKvx"
      },
      "execution_count": null,
      "outputs": []
    },
    {
      "cell_type": "code",
      "source": [
        "#List out the top 20 locations with the highest number of negative reviews - Google\n",
        "bad_healthygym_google_grouped_df = bad_healthygym_google_df.groupby(\"Club's Name\")['Comment'].count()\n",
        "bad_healthygym_google_grouped_df = bad_healthygym_google_grouped_df.sort_values(ascending=False)\n",
        "bad_healthygym_google_grouped_df = bad_healthygym_google_grouped_df.reset_index(name='total_count_g')\n",
        "\n",
        "#Get top 20 locations\n",
        "bad_healthygym_google_grouped_df.head(20)"
      ],
      "metadata": {
        "id": "Cpj-_cEg07t2"
      },
      "execution_count": null,
      "outputs": []
    },
    {
      "cell_type": "code",
      "source": [
        "# top 20 location with highest negative review - Google\n",
        "bad_healthygym_google_grouped_df.head(20)[\"Club's Name\"]"
      ],
      "metadata": {
        "id": "HMd4YBYvvA38"
      },
      "execution_count": null,
      "outputs": []
    },
    {
      "cell_type": "code",
      "source": [
        "intersection_of_bad_locations = [ tp_bad_location\n",
        "                                 for tp_bad_location in bad_healthygym_trustpilot_grouped_df.head(20)['Location Name'].to_list()\n",
        "                                if tp_bad_location in bad_healthygym_google_grouped_df.head(20)[\"Club's Name\"].to_list() ]\n",
        "len(intersection_of_bad_locations)"
      ],
      "metadata": {
        "id": "4gXBcAabY9YR"
      },
      "execution_count": null,
      "outputs": []
    },
    {
      "cell_type": "markdown",
      "source": [
        "There are some common locations (7 locations) but majority are different."
      ],
      "metadata": {
        "id": "OS895u_xUbDO"
      }
    },
    {
      "cell_type": "code",
      "source": [
        "# Top 20 locations from combined bad reviews\n",
        "merged_location_bad_reviews_count_df = pd.merge(bad_healthygym_trustpilot_grouped_df, bad_healthygym_google_grouped_df, how='left', left_on='Location Name', right_on=\"Club's Name\")\n",
        "merged_location_bad_reviews_count_df = merged_location_bad_reviews_count_df.dropna()\n",
        "merged_location_bad_reviews_count_df.drop(\"Club's Name\", axis=1, inplace=True)\n",
        "merged_location_bad_reviews_count_df['total_count'] = merged_location_bad_reviews_count_df['total_count_tp'] + merged_location_bad_reviews_count_df['total_count_g']\n",
        "merged_location_bad_reviews_count_df_sorted = merged_location_bad_reviews_count_df.sort_values(by=['total_count'], ascending=False)\n",
        "print(len(merged_location_bad_reviews_count_df_sorted))\n",
        "merged_location_bad_reviews_count_df_sorted.head(20)"
      ],
      "metadata": {
        "id": "Ni07vO11kEmd"
      },
      "execution_count": null,
      "outputs": []
    },
    {
      "cell_type": "code",
      "source": [
        "# Get negative reviews from top 30 locations\n",
        "top30_bad_review_locations = merged_location_bad_reviews_count_df_sorted.head(30)['Location Name']\n",
        "\n",
        "top30_bad_review_trustpilot_df = bad_healthygym_trustpilot_df[bad_healthygym_trustpilot_df['Location Name'].isin(top30_bad_review_locations)]\n",
        "top30_bad_review_google_df = bad_healthygym_google_df[bad_healthygym_google_df[\"Club's Name\"].isin(top30_bad_review_locations)]"
      ],
      "metadata": {
        "id": "myg_8W2cCwvI"
      },
      "execution_count": null,
      "outputs": []
    },
    {
      "cell_type": "code",
      "source": [
        "# display histogram and word cloud\n",
        "word_cloud_display(top30_bad_review_trustpilot_df, \"Review Content\")"
      ],
      "metadata": {
        "id": "ebuigsH9GfAU"
      },
      "execution_count": null,
      "outputs": []
    },
    {
      "cell_type": "code",
      "source": [
        "# display histogram and word cloud\n",
        "word_cloud_display(top30_bad_review_google_df, \"Comment\")"
      ],
      "metadata": {
        "id": "-xU53qEbGoVw"
      },
      "execution_count": null,
      "outputs": []
    },
    {
      "cell_type": "markdown",
      "source": [
        "**Overall bad review analysis**\n",
        "\n",
        "Trustpilot\n",
        "\n",
        "*   time\n",
        "*   equipment\n",
        "*   membership\n",
        "*   get\n",
        "*   machine\n",
        "*   member\n",
        "*   staff\n",
        "*   class\n",
        "*   day\n",
        "*   use\n",
        "\n",
        "Google\n",
        "\n",
        "*   equipment\n",
        "*   machine\n",
        "*   time\n",
        "*   staff\n",
        "*   people\n",
        "*   get\n",
        "*   like\n",
        "*   member\n",
        "*   weight\n",
        "*   even\n",
        "\n",
        "**Top 30 bad review analysis**\n",
        "\n",
        "Trustpilot\n",
        "\n",
        "*   member\n",
        "*   machine\n",
        "*   shower\n",
        "*   time\n",
        "*   equipment\n",
        "*   people\n",
        "*   also\n",
        "*   staff\n",
        "*   toilet\n",
        "*   month\n",
        "\n",
        "Google\n",
        "\n",
        "*   machine\n",
        "*   equipment\n",
        "*   time\n",
        "*   staff\n",
        "*   people\n",
        "*   always\n",
        "*   get\n",
        "*   even\n",
        "*   member\n",
        "*   place\n",
        "\n",
        "Comparing the word frequency and word cloud between overall negative reviews and top 30 location negative reviews, there are higher number of common words than distinct words. Comparison between Trustpilot and Google reviews also showed similar conclusion indicating that the negative reviews are consistent across both platforms."
      ],
      "metadata": {
        "id": "jVLVSURTMGK6"
      }
    },
    {
      "cell_type": "code",
      "source": [
        "# Filter out the reviews that are from the top 30 bad review locations.\n",
        "top30_bad_review_trustpilot_list = top30_bad_review_trustpilot_df[\"Review Content\"].to_list()\n",
        "top30_bad_review_google_list = top30_bad_review_google_df[\"Comment\"].to_list()\n",
        "\n",
        "#Merge the reviews to form a new list.\n",
        "top30_bad_reviews_list = top30_bad_review_trustpilot_list + top30_bad_review_google_list\n",
        "\n",
        "len(top30_bad_reviews_list)"
      ],
      "metadata": {
        "id": "zjC-2ejuPZxR"
      },
      "execution_count": null,
      "outputs": []
    },
    {
      "cell_type": "code",
      "source": [
        "top30_bad_reviews_list[0]"
      ],
      "metadata": {
        "id": "tcWXPrjeSWDn"
      },
      "execution_count": null,
      "outputs": []
    },
    {
      "cell_type": "code",
      "source": [
        "top30_bad_reviews_list_clean = clean_reviews(top30_bad_reviews_list)"
      ],
      "metadata": {
        "id": "mq5V4cUmT7QM"
      },
      "execution_count": null,
      "outputs": []
    },
    {
      "cell_type": "code",
      "source": [
        "top30_bad_reviews_list_clean[0]"
      ],
      "metadata": {
        "id": "QpkUUU_lUBdC"
      },
      "execution_count": null,
      "outputs": []
    },
    {
      "cell_type": "code",
      "source": [
        "# analyse negative reviews from top 30 locations\n",
        "model_top30 = BERTopic(verbose=True)\n",
        "model_top30.fit(top30_bad_reviews_list_clean)\n",
        "topic_top30, probabilities_top30 = model_top30.transform(top30_bad_reviews_list_clean)"
      ],
      "metadata": {
        "id": "pcHk0Di3U4Dd"
      },
      "execution_count": null,
      "outputs": []
    },
    {
      "cell_type": "code",
      "source": [
        "model_top30.get_topic_freq().head(10)"
      ],
      "metadata": {
        "id": "T0nwOwtYXUHe"
      },
      "execution_count": null,
      "outputs": []
    },
    {
      "cell_type": "code",
      "source": [
        "model_top30.get_topic(0)"
      ],
      "metadata": {
        "id": "TGcm06IsXhK3"
      },
      "execution_count": null,
      "outputs": []
    },
    {
      "cell_type": "code",
      "source": [
        "model_top30.get_topic(1)"
      ],
      "metadata": {
        "id": "V1vcamNoXkgm"
      },
      "execution_count": null,
      "outputs": []
    },
    {
      "cell_type": "code",
      "source": [
        "model_top30.visualize_topics()"
      ],
      "metadata": {
        "id": "ZDYMqf3fXwAS"
      },
      "execution_count": null,
      "outputs": []
    },
    {
      "cell_type": "code",
      "source": [
        "model_top30.visualize_barchart(topics=[1,2,3,4,5,6,7,8,9,10])"
      ],
      "metadata": {
        "id": "cFSc5l6oX_Q_"
      },
      "execution_count": null,
      "outputs": []
    },
    {
      "cell_type": "code",
      "source": [
        "model_top30.visualize_heatmap()"
      ],
      "metadata": {
        "id": "ju6XObWFYOZc"
      },
      "execution_count": null,
      "outputs": []
    },
    {
      "cell_type": "markdown",
      "source": [
        "The results are almost exactly the same as the first run of BERTopic. Therefore it deduces that if the top 10 to 15 issues are resolved, that would address most of the issues the gym is facing.\n",
        "\n",
        "Conversely, as these negative reviews are from top 30 locations with most negative reviews, it could also be overlooking negative reviews from other locations."
      ],
      "metadata": {
        "id": "BsQjxd3PfvlC"
      }
    },
    {
      "cell_type": "markdown",
      "source": [
        "# Conducting emotion analysis"
      ],
      "metadata": {
        "id": "fgrduZ5ap9cD"
      }
    },
    {
      "cell_type": "code",
      "source": [
        "from transformers import pipeline\n",
        "from transformers import AutoTokenizer\n",
        "\n",
        "# Load the tokenizer associated with the BERT model\n",
        "tokenizer = AutoTokenizer.from_pretrained(\"bhadresh-savani/bert-base-uncased-emotion\")\n",
        "\n",
        "# Load the text classification pipeline with bhadresh-savani/bert-base-uncased-emotion from Hugging Face\n",
        "classifier = pipeline(\n",
        "    \"text-classification\",\n",
        "    model=\"bhadresh-savani/bert-base-uncased-emotion\",\n",
        "    tokenizer=tokenizer,\n",
        "    truncation=True,\n",
        "    return_all_scores=False)"
      ],
      "metadata": {
        "id": "InQb5DOvuGEf"
      },
      "execution_count": null,
      "outputs": []
    },
    {
      "cell_type": "code",
      "source": [
        "# define method to classify reviews\n",
        "def classify_review(review, max_length=512):\n",
        "    if isinstance(review, str):\n",
        "\n",
        "        result = classifier(review)[0]\n",
        "\n",
        "        # Return the label with the highest score\n",
        "        return result['label'], result['score']\n",
        "    else:\n",
        "        raise ValueError(\"Input must be a string.\")\n",
        "\n",
        "\n",
        "print(classify_review( top30_bad_reviews_list_clean[1]))"
      ],
      "metadata": {
        "id": "PtvtKeR9vkaG"
      },
      "execution_count": null,
      "outputs": []
    },
    {
      "cell_type": "code",
      "source": [
        "# get negative reviews in dataframe\n",
        "healthygym_trustpilot_reviews = bad_healthygym_trustpilot_df[\"Review Content\"].to_frame()\n",
        "healthygym_google_reviews = bad_healthygym_google_df[\"Comment\"].to_frame()"
      ],
      "metadata": {
        "id": "2ENTDTrW1EvX"
      },
      "execution_count": null,
      "outputs": []
    },
    {
      "cell_type": "code",
      "source": [
        "healthygym_trustpilot_reviews['emotion_label'], healthygym_trustpilot_reviews['emotion_score'] = zip(*healthygym_trustpilot_reviews['Review Content'].apply(classify_review))\n",
        "\n",
        "# Display the dataset with the new columns\n",
        "print(healthygym_trustpilot_reviews.head())"
      ],
      "metadata": {
        "id": "mBX_SS9313Xp"
      },
      "execution_count": null,
      "outputs": []
    },
    {
      "cell_type": "code",
      "source": [
        "#Group reviews by emotions - Trustpilot\n",
        "healthygym_trustpilot_reviews_groupby_emotion_df = healthygym_trustpilot_reviews.groupby('emotion_label')['emotion_label'].count() #\n",
        "healthygym_trustpilot_reviews_groupby_emotion_df = healthygym_trustpilot_reviews_groupby_emotion_df.sort_values(ascending=False)\n",
        "healthygym_trustpilot_reviews_groupby_emotion_df = healthygym_trustpilot_reviews_groupby_emotion_df.reset_index(name=\"total_count\")\n",
        "\n",
        "# Get top 20 emotions\n",
        "healthygym_trustpilot_reviews_groupby_emotion_df.head(20)"
      ],
      "metadata": {
        "id": "7bxBcrFf84dw"
      },
      "execution_count": null,
      "outputs": []
    },
    {
      "cell_type": "code",
      "source": [
        "# display the emotion histogram\n",
        "ax = healthygym_trustpilot_reviews_groupby_emotion_df.plot.bar(x='emotion_label', y='total_count', rot=0)\n",
        "ax.set_xlabel(\"emotion\")\n",
        "ax.set_ylabel(\"count\")\n",
        "ax.set_title(\"Predicted Emotions in Negative Reviews - Trustpilot\")"
      ],
      "metadata": {
        "id": "6-R_hHru9ZMZ"
      },
      "execution_count": null,
      "outputs": []
    },
    {
      "cell_type": "code",
      "source": [
        "healthygym_google_reviews['emotion_label'], healthygym_google_reviews['emotion_score'] = zip(*healthygym_google_reviews['Comment'].apply(classify_review))\n",
        "\n",
        "# Display the dataset with the new columns\n",
        "print(healthygym_google_reviews.head())"
      ],
      "metadata": {
        "id": "PnzY5gEpExCg"
      },
      "execution_count": null,
      "outputs": []
    },
    {
      "cell_type": "code",
      "source": [
        "#Group reviews by emotions - Google\n",
        "healthygym_google_reviews_groupby_emotion_df = healthygym_google_reviews.groupby('emotion_label')['emotion_label'].count() #\n",
        "healthygym_google_reviews_groupby_emotion_df = healthygym_google_reviews_groupby_emotion_df.sort_values(ascending=False)\n",
        "healthygym_google_reviews_groupby_emotion_df = healthygym_google_reviews_groupby_emotion_df.reset_index(name=\"total_count\")\n",
        "\n",
        "# Get top 20 emotions\n",
        "healthygym_google_reviews_groupby_emotion_df.head(20)"
      ],
      "metadata": {
        "id": "DIrVcLQo6Jrv"
      },
      "execution_count": null,
      "outputs": []
    },
    {
      "cell_type": "code",
      "source": [
        "# display the emotion histogram\n",
        "ax = healthygym_google_reviews_groupby_emotion_df.plot.bar(x='emotion_label', y='total_count', rot=0)\n",
        "ax.set_xlabel(\"emotion\")\n",
        "ax.set_ylabel(\"count\")\n",
        "ax.set_title(\"Predicted Emotions in Negative Reviews - Google\")"
      ],
      "metadata": {
        "id": "gzyJuJDgrEwK"
      },
      "execution_count": null,
      "outputs": []
    },
    {
      "cell_type": "code",
      "source": [
        "# Filter out the reviews that are from the top 30 bad review locations.\n",
        "healthygym_trustpilot_bad_anger_list = healthygym_trustpilot_reviews[healthygym_trustpilot_reviews['emotion_label'] == \"anger\"][\"Review Content\"].to_list()\n",
        "healthygym_google_bad_anger_list = healthygym_google_reviews[healthygym_google_reviews['emotion_label'] == \"anger\"][\"Comment\"].to_list()\n",
        "\n",
        "#Merge the reviews to form a new list.\n",
        "healthygym_combined_bad_anger_list = healthygym_trustpilot_bad_anger_list + healthygym_google_bad_anger_list\n",
        "\n",
        "len(healthygym_combined_bad_anger_list)"
      ],
      "metadata": {
        "id": "cPCIL26iNphI"
      },
      "execution_count": null,
      "outputs": []
    },
    {
      "cell_type": "code",
      "source": [
        "healthygym_combined_bad_anger_list[0]"
      ],
      "metadata": {
        "id": "RIwfKcR1Qi3v"
      },
      "execution_count": null,
      "outputs": []
    },
    {
      "cell_type": "code",
      "source": [
        "healthygym_combined_bad_anger_list_clean = clean_reviews(healthygym_combined_bad_anger_list)"
      ],
      "metadata": {
        "id": "EAuOYNesQalu"
      },
      "execution_count": null,
      "outputs": []
    },
    {
      "cell_type": "code",
      "source": [
        "healthygym_combined_bad_anger_list_clean[0]"
      ],
      "metadata": {
        "id": "NwDiNZpUQmG4"
      },
      "execution_count": null,
      "outputs": []
    },
    {
      "cell_type": "code",
      "source": [
        "# analyse the angry reviews\n",
        "model_bad_anger = BERTopic(verbose=True)\n",
        "model_bad_anger.fit(healthygym_combined_bad_anger_list_clean)\n",
        "topic_bad_anger, probabilities_bad_anger = model_bad_anger.transform(healthygym_combined_bad_anger_list_clean)"
      ],
      "metadata": {
        "id": "XoQtx0gzQzzS"
      },
      "execution_count": null,
      "outputs": []
    },
    {
      "cell_type": "code",
      "source": [
        "model_bad_anger.get_topic_freq().head(10)"
      ],
      "metadata": {
        "id": "VHqPDoMXRMwC"
      },
      "execution_count": null,
      "outputs": []
    },
    {
      "cell_type": "code",
      "source": [
        "model_bad_anger.get_topic(0)"
      ],
      "metadata": {
        "id": "zP-vEyGoRPWL"
      },
      "execution_count": null,
      "outputs": []
    },
    {
      "cell_type": "code",
      "source": [
        "model_bad_anger.get_topic(1)"
      ],
      "metadata": {
        "id": "4k0oSY5vRTDq"
      },
      "execution_count": null,
      "outputs": []
    },
    {
      "cell_type": "code",
      "source": [
        "model_bad_anger.visualize_topics()"
      ],
      "metadata": {
        "id": "hqjiWMawRYxb"
      },
      "execution_count": null,
      "outputs": []
    },
    {
      "cell_type": "code",
      "source": [
        "model_bad_anger.visualize_barchart(topics=[1,2,3,4,5,6,7,8,9,10])"
      ],
      "metadata": {
        "id": "o1cXOV1qRa_Q"
      },
      "execution_count": null,
      "outputs": []
    },
    {
      "cell_type": "code",
      "source": [
        "model_bad_anger.visualize_heatmap()"
      ],
      "metadata": {
        "id": "Z-6uegfTR4ww"
      },
      "execution_count": null,
      "outputs": []
    },
    {
      "cell_type": "markdown",
      "source": [
        "These are the top 10 word clusters from **negative** reviews with **angry** emotion. (changes slightly with consecutive runs).\n",
        "\n",
        "*   weight bench machine equipment people\n",
        "*   pas day pin bought email\n",
        "*   been never walked past not\n",
        "*   cancel membership refund email cancellation\n",
        "*   parking car fine park free\n",
        "*   shower cold temperature water hot\n",
        "*   locker star room stolen staff\n",
        "*   trainer personal rude member manager\n",
        "*   toilet room soap changing sink\n",
        "*   music loud class headphone noise\n",
        "\n",
        "The general theme stays consistent with previous BERTopic analysis and the primary issue leading to negative and angry reviews are about weight and machine availability, access pass and pin, shower and toilet facilities, joining issues, parking fine, class and instructor availability and general noise and ambience in the gym."
      ],
      "metadata": {
        "id": "Akz6svAY6oFT"
      }
    },
    {
      "cell_type": "markdown",
      "source": [
        "# Using a large language model from Hugging Face"
      ],
      "metadata": {
        "id": "lo9P7ZRQCHp4"
      }
    },
    {
      "cell_type": "code",
      "source": [
        "!pip install accelerate\n",
        "!pip install -U safetensors"
      ],
      "metadata": {
        "id": "TD4gQWo2DRAV"
      },
      "execution_count": null,
      "outputs": []
    },
    {
      "cell_type": "code",
      "source": [
        "from transformers import AutoTokenizer\n",
        "import transformers\n",
        "import torch\n",
        "import accelerate\n",
        "\n",
        "import pandas as pd\n",
        "import numpy as np"
      ],
      "metadata": {
        "id": "VR_VMWob3R-J"
      },
      "execution_count": null,
      "outputs": []
    },
    {
      "cell_type": "code",
      "source": [
        "# Define the LLM model pipeline\n",
        "model_llm = \"tiiuae/falcon-7b-instruct\"\n",
        "\n",
        "tokenizer = AutoTokenizer.from_pretrained(model_llm)\n",
        "pipeline = transformers.pipeline(\n",
        "    \"text-generation\",\n",
        "    model=model_llm,\n",
        "    tokenizer=tokenizer,\n",
        "    torch_dtype=torch.bfloat16,\n",
        "    trust_remote_code=True,\n",
        "    device_map=\"auto\",\n",
        ")"
      ],
      "metadata": {
        "id": "fJyj2gev33YG"
      },
      "execution_count": null,
      "outputs": []
    },
    {
      "cell_type": "code",
      "source": [
        "sequences = pipeline(\n",
        "    \"In the following customer review, pick out the main 3 topics. Return them in a numbered list format, with each one on a new line.: I have paid my membership but I can't access the gym, I am still waiting on a code\",\n",
        "    max_length=1000,\n",
        "    truncation=True,\n",
        "    do_sample=True,\n",
        "    top_k = 10,\n",
        "    temperature=0.5,\n",
        "    num_return_sequences=1,\n",
        "    eos_token_id=tokenizer.eos_token_id,\n",
        ")\n",
        "\n",
        "for seq in sequences:\n",
        "  print(f\"Result: {seq['generated_text']}\")"
      ],
      "metadata": {
        "id": "029ft-KV5BEx"
      },
      "execution_count": null,
      "outputs": []
    },
    {
      "cell_type": "code",
      "source": [
        "# This section is duplicate code from sections above to be able to run LLM without running the whole notepad\n",
        "healthygym_trustpilot_df = pd.read_excel('/content/sample_data/Trustpilot_12_months.xlsx')\n",
        "healthygym_google_df = pd.read_excel('/content/sample_data/Google_12_months.xlsx')\n",
        "healthygym_google_df.dropna(inplace=True)\n",
        "\n",
        "trustpilot_locations = healthygym_trustpilot_df['Location Name'].unique()\n",
        "trustpilot_locations = trustpilot_locations.astype(str)\n",
        "len(trustpilot_locations)\n",
        "\n",
        "google_locations = healthygym_google_df[\"Club's Name\"].unique()\n",
        "google_locations = google_locations.astype(str)\n",
        "len(google_locations)\n",
        "\n",
        "intersection_of_locations = [ tp_location for tp_location in trustpilot_locations if tp_location in google_locations ]\n",
        "len(intersection_of_locations)"
      ],
      "metadata": {
        "id": "LnfSALB1MPN9"
      },
      "execution_count": null,
      "outputs": []
    },
    {
      "cell_type": "code",
      "source": [
        "# This section is duplicate code from sections above to be able to run LLM without running the whole notepad\n",
        "bad_healthygym_trustpilot_df = healthygym_trustpilot_df[healthygym_trustpilot_df[\"Review Stars\"] < 3]\n",
        "bad_healthygym_google_df = healthygym_google_df[healthygym_google_df[\"Overall Score\"] < 3]\n",
        "\n",
        "both_loc_healthygym_trustpilot_df = bad_healthygym_trustpilot_df[bad_healthygym_trustpilot_df['Location Name'].isin(intersection_of_locations)]\n",
        "both_loc_healthygym_google_df = bad_healthygym_google_df[bad_healthygym_google_df[\"Club's Name\"].isin(intersection_of_locations)]\n",
        "\n",
        "bad_healthygym_trustpilot_list = both_loc_healthygym_trustpilot_df[\"Review Content\"].to_list()\n",
        "bad_healthygym_google_list = both_loc_healthygym_google_df[\"Comment\"].to_list()\n",
        "\n",
        "#Merge the reviews to form a new list.\n",
        "all_bad_reviews_list = bad_healthygym_trustpilot_list + bad_healthygym_google_list\n",
        "\n",
        "len(all_bad_reviews_list)"
      ],
      "metadata": {
        "id": "ua7tX0AhNaL1"
      },
      "execution_count": null,
      "outputs": []
    },
    {
      "cell_type": "code",
      "source": [
        "topics_llm = []\n",
        "print(len(all_bad_reviews_list))\n",
        "iter = 0\n",
        "for review in all_bad_reviews_list[0:1000]:\n",
        "  if len(str(review)) < 1000:\n",
        "    sequences = pipeline(\n",
        "      f\"In the following customer review, pick out the main 3 topics. Return them in a numbered list format, with each one on a new line. {review}\",\n",
        "      max_length=1000,\n",
        "      truncation=True,\n",
        "      do_sample=True,\n",
        "      top_k = 10,\n",
        "      num_return_sequences=1,\n",
        "      eos_token_id=tokenizer.eos_token_id,\n",
        "    )\n",
        "\n",
        "    #print(sequences[0]['generated_text'])\n",
        "    topic_splits = sequences[0]['generated_text'].splitlines()\n",
        "    if len(topic_splits) > 1:\n",
        "      topic_splits.pop(0)\n",
        "    #print(\"topic_splits\", topic_splits[0])\n",
        "\n",
        "    for topic_split in topic_splits:\n",
        "      topic_split = topic_split.replace(\"1.\", \"\")\n",
        "      topic_split = topic_split.replace(\"2.\", \"\")\n",
        "      topic_split = topic_split.replace(\"3.\", \"\")\n",
        "      topic_split = topic_split.replace(\"-\", \"\")\n",
        "      topic_split = topic_split.strip()\n",
        "      topics_llm.append(topic_split)\n",
        "  print(iter, \"- \", len(all_bad_reviews_list))\n",
        "  iter = iter + 1\n",
        "\n",
        "print(topics_llm)\n",
        "np_topics_llm = np.array(topics_llm)\n",
        "np.save('np_topics_llm.npy', np_topics_llm)"
      ],
      "metadata": {
        "id": "Rk3JbeG3FGHF"
      },
      "execution_count": null,
      "outputs": []
    },
    {
      "cell_type": "code",
      "source": [
        "# Analyse the output of the LLM with BERTopic\n",
        "model_negative_llm = BERTopic(verbose=True)\n",
        "model_negative_llm.fit(topics_llm)\n",
        "topic_model_negative_llm, probabilities_model_negative_llm = model_negative_llm.transform(topics_llm)"
      ],
      "metadata": {
        "id": "6BVVN2dRZLbS"
      },
      "execution_count": null,
      "outputs": []
    },
    {
      "cell_type": "code",
      "source": [
        "model_negative_llm.get_topic_freq().head(10)"
      ],
      "metadata": {
        "id": "JZFA9BZLcduu"
      },
      "execution_count": null,
      "outputs": []
    },
    {
      "cell_type": "code",
      "source": [
        "model_negative_llm.get_topic(0)"
      ],
      "metadata": {
        "id": "OuAXuJlpcisy"
      },
      "execution_count": null,
      "outputs": []
    },
    {
      "cell_type": "code",
      "source": [
        "model_negative_llm.get_topic(1)"
      ],
      "metadata": {
        "id": "b3E2HeQGclZz"
      },
      "execution_count": null,
      "outputs": []
    },
    {
      "cell_type": "code",
      "source": [
        "model_negative_llm.visualize_topics()"
      ],
      "metadata": {
        "id": "ILgSBFG8cwPX"
      },
      "execution_count": null,
      "outputs": []
    },
    {
      "cell_type": "code",
      "source": [
        "model_negative_llm.visualize_barchart(topics=[1,2,3,4,5,6,7,8,9,10])"
      ],
      "metadata": {
        "id": "Ui1uOZVxczkV"
      },
      "execution_count": null,
      "outputs": []
    },
    {
      "cell_type": "code",
      "source": [
        "model_negative_llm.visualize_heatmap()"
      ],
      "metadata": {
        "id": "lz2c3gY-c-RL"
      },
      "execution_count": null,
      "outputs": []
    },
    {
      "cell_type": "markdown",
      "source": [
        "Topic clusters are as follows:\n",
        "\n",
        "*  customer service active journey deliverycustomer\n",
        "*  air conditioning atmosphere heating heat\n",
        "*  busy crowded too overcrowding many\n",
        "*  machines broken machine order always\n",
        "*  experience app terrible unpleasant overall\n",
        "*  access inability gym to enter\n",
        "*  customer experience service unsatisfactory unsatisfied\n",
        "*  parking car park details ticket\n",
        "*  support contact lack phone lackluster\n",
        "*  equipment apparatus moved cramped inappropriate\n",
        "\n",
        "Although only 1000 negative reviews were processed, using LLM model falcon-7b-instruct, to return top 3 topics from each review, topic modelling using BERTopic resulted in almost the same word clusters as processing the reviews directly. Nevertheless, the clusters seem to better indicate the sentiment and the issues are clearer."
      ],
      "metadata": {
        "id": "xGT-OlbdMeqs"
      }
    },
    {
      "cell_type": "code",
      "source": [
        "loaded_arr = np.load('np_topics_llm.npy')\n",
        "topics_llm = loaded_arr.tolist()"
      ],
      "metadata": {
        "id": "fz_bfxw7ILBc"
      },
      "execution_count": null,
      "outputs": []
    },
    {
      "cell_type": "code",
      "source": [
        "topic_string = ', '.join(topics_llm[0:200])\n",
        "print(topic_string)"
      ],
      "metadata": {
        "id": "gFOt8aFBIW8W"
      },
      "execution_count": null,
      "outputs": []
    },
    {
      "cell_type": "code",
      "source": [
        "# Rerun LLM feeding the output from previous run, to get actionable insights\n",
        "sequences_insights = pipeline(\n",
        "  f\"For the following text topics obtained from negative customer reviews, can you give some actionable insights that would help this gym company?. {topic_string}\",\n",
        "  max_length=3000,\n",
        "  do_sample=True,\n",
        "  top_k = 10,\n",
        "  num_return_sequences=1,\n",
        "  truncation=True,\n",
        "  eos_token_id=tokenizer.eos_token_id,\n",
        ")"
      ],
      "metadata": {
        "id": "sMJjgXLQIqVG"
      },
      "execution_count": null,
      "outputs": []
    },
    {
      "cell_type": "code",
      "source": [
        "sequences_insights"
      ],
      "metadata": {
        "id": "fCbtGP_F6KZk"
      },
      "execution_count": null,
      "outputs": []
    },
    {
      "cell_type": "markdown",
      "source": [
        "# Using Gensim"
      ],
      "metadata": {
        "id": "k7p9aZ-6wdx8"
      }
    },
    {
      "cell_type": "code",
      "source": [
        "# Install Gensim\n",
        "!pip install gensim nltk datasets pyLDAvis ipykernel"
      ],
      "metadata": {
        "id": "MBV0-i1jTaui"
      },
      "execution_count": null,
      "outputs": []
    },
    {
      "cell_type": "code",
      "source": [
        "tokenized_docs = [doc.lower().split() for doc in all_bad_reviews_list_clean]\n",
        "\n",
        "# Create a dictionary representation of the documents.\n",
        "from gensim import corpora\n",
        "dictionary = corpora.Dictionary(tokenized_docs)\n",
        "\n",
        "# Filter out words that occur fewer than 2 documents or more than 50% of the documents.\n",
        "dictionary.filter_extremes(no_below=2, no_above=0.5)\n",
        "\n",
        "# Create a BOW representation of the documents.\n",
        "corpus = [dictionary.doc2bow(doc) for doc in tokenized_docs]\n",
        "\n",
        "# Set parameters.\n",
        "num_topics = 10\n",
        "passes = 20"
      ],
      "metadata": {
        "id": "9Op1milaUQAF"
      },
      "execution_count": null,
      "outputs": []
    },
    {
      "cell_type": "code",
      "source": [
        "# Create the LDA model.\n",
        "from gensim.models.ldamodel import LdaModel\n",
        "lda_model = LdaModel(corpus=corpus, num_topics=num_topics, id2word=dictionary, passes=passes)"
      ],
      "metadata": {
        "id": "O_bV6RFlb8nL"
      },
      "execution_count": null,
      "outputs": []
    },
    {
      "cell_type": "code",
      "source": [
        "# Print the topics.\n",
        "for idx, topic in lda_model.print_topics(-1):\n",
        "    print(\"Topic: {} \\nWords: {}\".format(idx, topic))"
      ],
      "metadata": {
        "id": "S-ySVu1ccE68"
      },
      "execution_count": null,
      "outputs": []
    },
    {
      "cell_type": "code",
      "source": [
        "import pyLDAvis.gensim_models as gensimvis\n",
        "import pyLDAvis\n",
        "\n",
        "# Prepare the visualisation.\n",
        "pyLDAvis.enable_notebook()\n",
        "vis = gensimvis.prepare(lda_model, corpus, dictionary)\n",
        "pyLDAvis.display(vis)"
      ],
      "metadata": {
        "id": "daKB997kcPg4"
      },
      "execution_count": null,
      "outputs": []
    },
    {
      "cell_type": "markdown",
      "source": [
        "The top 10 topics from Gensim are as follows.\n",
        "\n",
        "*   equipment, machine, time, people, busy, space, weight, get, enough, many\n",
        "*   broken, machine, water, week, month, equipment, like, order, time, toilet\n",
        "*   music, loud, hot, closed, even, open, class, water, work, day\n",
        "*   shower, room, changing, toilet, dirty, cold, always, clean, locker, the\n",
        "*   class, instructor, people, bike, cancelled, booked, minute, trainer, need, get\n",
        "*   staff, member, manager, rude, customer, said, trainer, would, u, personal\n",
        "*   weight, machine, equipment, staff, people, like, place, member, time, floor\n",
        "*   air, year, staff, issue, member, con, cleaning, conditioning, equipment, hot\n",
        "*   day, pas, pin, get, code, work, help, access, even, paid\n",
        "*   time, membership, parking, month, get, day, email, i, pay, customer\n",
        "\n",
        "The overall words in the topics are similar to the topics and words from other models like BERTopic and LLM."
      ],
      "metadata": {
        "id": "T1FUZTaBv_7k"
      }
    },
    {
      "cell_type": "markdown",
      "source": [
        "# Conclusion\n",
        "\n",
        "The reviews from Trustpilot and Google have been extensively analysed using various methods and models.\n",
        "\n",
        "Initially the whole review from both Trustpilot and Google were analysed with histogram and word cloud. As the whole dataset was used, it did not provide any actionable insight. Subsequently the negative reviews were filtered out. The resultant histogram and word cloud started showing potential problem areas. However, it still did not provide a clear nature of the issue.\n",
        "\n",
        "The negative reviews were then analysed with BERTopic. As the topic clusters were formed, the exact nature of the issues was coming to the fore. This was further finetuned by analysing based on location whereby negative reviews of top 30 locations were analysed. Emotion analysis was also performed on these and BERTopic was rerun on angry reviews.\n",
        "\n",
        "Finally, the negative reviews were also analysed using a LLM model and Gensim. BERTopic analysis on output from the LLM model gave the clearest indication of the nature of the issues however due to resource constraints, the LLM could not provide any actionable insight. Gensim also provided similar topic clusters as those analysed by BERTopic.\n",
        "\n",
        "Based on the overall analysis performed and explained above, the following are top issues highlighted by the reviews. HealthyGym is recommended to resolve these issues to gain competitive edge.\n",
        "\n",
        "1.   Membership issue\n",
        "* Sign up - access pass issue\n",
        "* Cancellation issue\n",
        "2. Too Busy\n",
        "*   Equipment and weight availability\n",
        "*   Trainer cancelling classed\n",
        "*   Air conditioner/room temperature issue\n",
        "3. Cleanliness\n",
        "* Shower - mould and cold water\n",
        "* Toilet\n",
        "* Sink\n",
        "4. Things getting stolen from locker room.\n",
        "5. Rude staff.\n",
        "6. Car park fine.\n",
        "7. Loud music and general ambience.\n",
        "8. Customer service\n",
        "\n"
      ],
      "metadata": {
        "id": "zUYzY12p3V8t"
      }
    },
    {
      "cell_type": "code",
      "source": [],
      "metadata": {
        "id": "DCPFnjJ1G73C"
      },
      "execution_count": null,
      "outputs": []
    }
  ]
}